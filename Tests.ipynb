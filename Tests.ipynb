{
 "cells": [
  {
   "cell_type": "code",
   "execution_count": 5,
   "metadata": {},
   "outputs": [],
   "source": [
    "import numpy as np \n",
    "import matplotlib.pyplot as plt \n",
    "import seaborn as sns \n",
    "import torch"
   ]
  },
  {
   "cell_type": "code",
   "execution_count": 15,
   "metadata": {},
   "outputs": [],
   "source": [
    "def create_input(n,p):\n",
    "    \n",
    "    return np.random.choice([0,1],size=n,p=[p,1-p])"
   ]
  },
  {
   "cell_type": "code",
   "execution_count": 53,
   "metadata": {},
   "outputs": [
    {
     "data": {
      "text/plain": [
       "(array([ 0,  7, 10, 12, 16, 19, 25, 29, 32, 33, 34, 35, 38, 43, 50, 54, 59,\n",
       "        60, 62, 64, 67, 69, 70, 74, 76, 83, 85, 88, 91, 92, 93, 95]),)"
      ]
     },
     "execution_count": 53,
     "metadata": {},
     "output_type": "execute_result"
    }
   ],
   "source": [
    "xtest = create_input(100,0.7)\n",
    "xtest.nonzero()"
   ]
  },
  {
   "cell_type": "code",
   "execution_count": 17,
   "metadata": {},
   "outputs": [],
   "source": [
    "def create_tests(T,n,alpha):\n",
    "    \n",
    "    return np.random.choice([0,1],size=(T,n),p=[alpha,1-alpha])"
   ]
  },
  {
   "cell_type": "code",
   "execution_count": 50,
   "metadata": {},
   "outputs": [
    {
     "data": {
      "text/plain": [
       "array([0, 1, 3, 2, 0, 1, 2, 2, 0, 1, 1, 0, 4, 1, 1, 1, 2, 1, 0, 2, 2, 0,\n",
       "       1, 1, 1, 0, 0, 0, 1, 0, 0, 1, 0, 1, 1, 1, 2, 1, 1, 0, 0, 2, 1, 1,\n",
       "       1, 1, 0, 2, 1, 0, 1, 0, 2, 1, 1, 0, 1, 2, 1, 0])"
      ]
     },
     "execution_count": 50,
     "metadata": {},
     "output_type": "execute_result"
    }
   ],
   "source": [
    "create_tests(60,100,0.9)@create_input(100,0.9)"
   ]
  },
  {
   "cell_type": "code",
   "execution_count": 51,
   "metadata": {},
   "outputs": [],
   "source": [
    "def evaluate(x_estimate,x):\n",
    "    \n",
    "    diff = x_estimate-x\n",
    "    diff[diff != 0] = 1\n",
    "    \n",
    "    return np.mean(diff)"
   ]
  },
  {
   "cell_type": "markdown",
   "metadata": {},
   "source": [
    "# COMP algorithm"
   ]
  },
  {
   "cell_type": "code",
   "execution_count": 282,
   "metadata": {},
   "outputs": [],
   "source": [
    "class COMP:\n",
    "    \n",
    "    \"\"\" \n",
    "    \n",
    "    The COMP algorithm conservatively reconstructs the true vector x given a test matrix and a test result.\n",
    "    It works by declaring healthy only the individuals that are in a group with negative test result.\n",
    "    Initialize COMP with the true (unknown) vector x and the test matrix. \n",
    "    \n",
    "    * reconstruct() outputs the vector reconstructed by the COMP algorithm.\n",
    "    \n",
    "    * score() computes the 0-1 accuracy of the algorithm.\n",
    "    \n",
    "    * average_score(mat_size,number,alpha) is a function meant for evaluating the performance of the COMP algorithm \n",
    "    with random tests. It computes the 0-1 accuracy for number test designs with mat_size random tests \n",
    "    (parametrized by alpha), and outputes the average performance of the COMP algorithm. \n",
    "    \n",
    "    \"\"\"\n",
    "    \n",
    "    def __init__(self,true_x,test_matrix):\n",
    "        \n",
    "        self.true_x = true_x\n",
    "        self.popsize = true_x.shape[0]\n",
    "        self.test_matrix = test_matrix\n",
    "        print(self.test_matrix.shape[1])\n",
    "        print(self.true_x.shape)\n",
    "        \n",
    "        if self.true_x.shape[0] != (self.test_matrix.shape)[1]:\n",
    "            \n",
    "            raise Exception(\"Number of columns in the test matrix and true vector size should be equal.\")\n",
    "            \n",
    "        self.test_result = test_matrix@true_x\n",
    "        \n",
    "        \n",
    "    def reconstruct(self,test_mat=None):\n",
    "        \n",
    "        \n",
    "        if type(test_mat) != type(None):\n",
    "                        \n",
    "            #Allows for reconstruction with different test matrix, used in average_score()\n",
    "            \n",
    "            test_matrix = test_mat\n",
    "            test_result = test_mat@(self.true_x)\n",
    "            \n",
    "        else:\n",
    "            \n",
    "            test_matrix = self.test_matrix\n",
    "            test_result = self.test_result\n",
    "        \n",
    "        reconstructed_x = np.ones(test_matrix.shape[1])\n",
    "        \n",
    "        for line in np.arange(test_matrix.shape[0]):\n",
    "            \n",
    "            if test_result[line] == 0:\n",
    "                \n",
    "                def_negatives = test_matrix[line].nonzero()\n",
    "                \n",
    "                reconstructed_x[def_negatives] = 0\n",
    "                \n",
    "        return reconstructed_x\n",
    "    \n",
    "    \n",
    "    def score(self,test_mat=None):\n",
    "                \n",
    "        if type(test_mat) != type(None):\n",
    "            \n",
    "            #Allows for reconstruction with different test matrix, used in average_score()\n",
    "            \n",
    "            reconstructed_x = self.reconstruct(test_mat=test_mat)\n",
    "        \n",
    "        else:\n",
    "            \n",
    "            reconstructed_x = self.reconstruct()\n",
    "            \n",
    "            \n",
    "        diff = reconstructed_x - self.true_x\n",
    "        diff[diff != 0] = 1\n",
    "        \n",
    "        return np.mean(1-diff)\n",
    "    \n",
    "    \n",
    "    def average_score(self,mat_size,number,alpha):\n",
    "        \n",
    "        output = 0\n",
    "        \n",
    "        for i in np.arange(number):\n",
    "            \n",
    "            random_matrix = np.random.choice([0,1],size=(mat_size,self.popsize),p=[alpha,1-alpha])\n",
    "            \n",
    "            output += self.score(test_mat=random_matrix)\n",
    "            \n",
    "        return output/number"
   ]
  },
  {
   "cell_type": "code",
   "execution_count": 290,
   "metadata": {},
   "outputs": [
    {
     "name": "stdout",
     "output_type": "stream",
     "text": [
      "150\n",
      "(150,)\n",
      "0.96\n",
      "0.9071393333332773\n"
     ]
    }
   ],
   "source": [
    "x_test = create_input(150,0.9)\n",
    "mat_test = create_tests(100,150,0.9) \n",
    "COMP_alg = COMP(x_test,mat_test) \n",
    "rec_x = COMP_alg.reconstruct()\n",
    "print(COMP_alg.score())\n",
    "print(COMP_alg.average_score(80,10000,0.9))"
   ]
  },
  {
   "cell_type": "code",
   "execution_count": 299,
   "metadata": {},
   "outputs": [
    {
     "name": "stdout",
     "output_type": "stream",
     "text": [
      "150\n",
      "(150,)\n"
     ]
    },
    {
     "data": {
      "image/png": "[encoded data removed]",
      "text/plain": [
       "<Figure size 432x288 with 1 Axes>"
      ]
     },
     "metadata": {
      "needs_background": "light"
     },
     "output_type": "display_data"
    }
   ],
   "source": [
    "x_test = create_input(150,0.9)\n",
    "\n",
    "results = []\n",
    "\n",
    "comp = COMP(x_test,mat_test)\n",
    "\n",
    "for test_number in np.arange(100):\n",
    "    \n",
    "    output = comp.average_score(test_number,10,0.9)\n",
    "    results.append(output)\n",
    "    \n",
    "plt.plot(results)\n",
    "plt.show()\n",
    "\n",
    "    \n",
    "    "
   ]
  },
  {
   "cell_type": "code",
   "execution_count": 318,
   "metadata": {},
   "outputs": [
    {
     "name": "stdout",
     "output_type": "stream",
     "text": [
      "200\n",
      "(200,)\n",
      "0.84\n"
     ]
    },
    {
     "data": {
      "image/png": "[encoded data removed]",
      "text/plain": [
       "<Figure size 432x288 with 1 Axes>"
      ]
     },
     "metadata": {
      "needs_background": "light"
     },
     "output_type": "display_data"
    }
   ],
   "source": [
    "x_test = create_input(200,0.9)\n",
    "mat_test = create_tests(200,200,0.8) \n",
    "COMP_alg = COMP(x_test,mat_test) \n",
    "rec_x = COMP_alg.reconstruct()\n",
    "print(COMP_alg.score())\n",
    "\n",
    "results = []\n",
    "\n",
    "for i in np.arange(0,200):\n",
    "    \n",
    "    output = COMP_alg.score(mat_test[0:i,:])\n",
    "    results.append(output)\n",
    "    \n",
    "plt.plot(results)\n",
    "plt.show()"
   ]
  }
 ],
 "metadata": {
  "kernelspec": {
   "display_name": "Python 3",
   "language": "python",
   "name": "python3"
  },
  "language_info": {
   "codemirror_mode": {
    "name": "ipython",
    "version": 3
   },
   "file_extension": ".py",
   "mimetype": "text/x-python",
   "name": "python",
   "nbconvert_exporter": "python",
   "pygments_lexer": "ipython3",
   "version": "3.7.6"
  }
 },
 "nbformat": 4,
 "nbformat_minor": 4
}
