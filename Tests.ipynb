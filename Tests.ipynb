{
 "cells": [
  {
   "cell_type": "code",
   "execution_count": 1,
   "metadata": {},
   "outputs": [],
   "source": [
    "import numpy as np \n",
    "import matplotlib.pyplot as plt \n",
    "import seaborn as sns \n",
    "import torch\n",
    "import sys\n",
    "import cvxpy as cp"
   ]
  },
  {
   "cell_type": "code",
   "execution_count": 2,
   "metadata": {},
   "outputs": [],
   "source": [
    "from reconstruction_alg import DD"
   ]
  },
  {
   "cell_type": "code",
   "execution_count": 15,
   "metadata": {},
   "outputs": [
    {
     "data": {
      "text/plain": [
       "0.99"
      ]
     },
     "execution_count": 15,
     "metadata": {},
     "output_type": "execute_result"
    }
   ],
   "source": [
    "x_t = create_input(100,0.9)\n",
    "m_t = create_tests(80,100,0.9)\n",
    "\n",
    "dd = DD(x_t,m_t)\n",
    "dd.reconstruct()\n",
    "dd.score()"
   ]
  },
  {
   "cell_type": "code",
   "execution_count": 4,
   "metadata": {},
   "outputs": [],
   "source": [
    "def create_input(n,p):\n",
    "    \n",
    "    return np.random.choice([0,1],size=n,p=[p,1-p])"
   ]
  },
  {
   "cell_type": "code",
   "execution_count": 3,
   "metadata": {},
   "outputs": [
    {
     "data": {
      "text/plain": [
       "(array([ 4, 11, 12, 17, 20, 24, 26, 29, 35, 36, 38, 39, 40, 41, 47, 53, 55,\n",
       "        63, 65, 75, 80, 81, 90, 91, 99]),)"
      ]
     },
     "execution_count": 3,
     "metadata": {},
     "output_type": "execute_result"
    }
   ],
   "source": [
    "xtest = create_input(100,0.7)\n",
    "xtest.nonzero()"
   ]
  },
  {
   "cell_type": "code",
   "execution_count": 5,
   "metadata": {},
   "outputs": [],
   "source": [
    "def create_tests(T,n,alpha):\n",
    "    \n",
    "    return np.random.choice([0,1],size=(T,n),p=[alpha,1-alpha])"
   ]
  },
  {
   "cell_type": "code",
   "execution_count": 5,
   "metadata": {},
   "outputs": [
    {
     "data": {
      "text/plain": [
       "array([0, 0, 1, 0, 1, 2, 1, 1, 4, 3, 3, 4, 1, 1, 1, 1, 1, 0, 1, 0, 0, 1,\n",
       "       3, 1, 1, 2, 1, 3, 2, 1, 0, 0, 0, 3, 0, 1, 1, 0, 1, 0, 1, 1, 1, 3,\n",
       "       2, 1, 1, 1, 0, 1, 0, 1, 1, 4, 1, 1, 1, 0, 1, 1])"
      ]
     },
     "execution_count": 5,
     "metadata": {},
     "output_type": "execute_result"
    }
   ],
   "source": [
    "create_tests(60,100,0.9)@create_input(100,0.9)"
   ]
  },
  {
   "cell_type": "markdown",
   "metadata": {},
   "source": [
    "# COMP algorithm"
   ]
  },
  {
   "cell_type": "code",
   "execution_count": 378,
   "metadata": {},
   "outputs": [],
   "source": [
    "class COMP:\n",
    "    \n",
    "    \"\"\" \n",
    "    \n",
    "    The COMP algorithm conservatively reconstructs the true vector x given a test matrix and a test result.\n",
    "    It works by declaring healthy only the individuals that are in a group with negative test result.\n",
    "    Initialize COMP with the true (unknown) vector x and the test matrix. \n",
    "    \n",
    "    * reconstruct() outputs the vector reconstructed by the COMP algorithm.\n",
    "    \n",
    "    * score() computes the 0-1 accuracy of the algorithm.\n",
    "    \n",
    "    * average_score(mat_size,number,alpha) is a function meant for evaluating the performance of the COMP algorithm \n",
    "    with random tests. It computes the 0-1 accuracy for number test designs with mat_size random tests \n",
    "    (parametrized by alpha), and outputes the average performance of the COMP algorithm. \n",
    "    \n",
    "    \"\"\"\n",
    "    \n",
    "    def __init__(self,true_x,test_matrix):\n",
    "        \n",
    "        self.true_x = true_x\n",
    "        self.popsize = true_x.shape[0]\n",
    "        self.test_matrix = test_matrix\n",
    "        \n",
    "        if self.true_x.shape[0] != (self.test_matrix.shape)[1]:\n",
    "            \n",
    "            raise Exception(\"Number of columns in the test matrix and true vector size should be equal.\")\n",
    "            \n",
    "        self.test_result = test_matrix@true_x\n",
    "        \n",
    "        \n",
    "    def reconstruct(self,test_mat=None):\n",
    "        \n",
    "        \n",
    "        if type(test_mat) != type(None):\n",
    "                        \n",
    "            #Allows for reconstruction with different test matrix, used in average_score()\n",
    "            \n",
    "            test_matrix = test_mat\n",
    "            test_result = test_mat@(self.true_x)\n",
    "            \n",
    "        else:\n",
    "            \n",
    "            test_matrix = self.test_matrix\n",
    "            test_result = self.test_result\n",
    "        \n",
    "        reconstructed_x = np.ones(test_matrix.shape[1])\n",
    "        \n",
    "        for line in np.arange(test_matrix.shape[0]):\n",
    "            \n",
    "            if test_result[line] == 0:\n",
    "                \n",
    "                def_negatives = test_matrix[line].nonzero()\n",
    "                \n",
    "                reconstructed_x[def_negatives] = 0\n",
    "                \n",
    "        return reconstructed_x\n",
    "    \n",
    "    \n",
    "    def score(self,test_mat=None):\n",
    "                \n",
    "        if type(test_mat) != type(None):\n",
    "            \n",
    "            #Allows for reconstruction with different test matrix, used in average_score()\n",
    "            \n",
    "            reconstructed_x = self.reconstruct(test_mat=test_mat)\n",
    "        \n",
    "        else:\n",
    "            \n",
    "            reconstructed_x = self.reconstruct()\n",
    "            \n",
    "            \n",
    "        diff = reconstructed_x - self.true_x\n",
    "        diff[diff != 0] = 1\n",
    "        \n",
    "        return np.mean(1-diff)\n",
    "    \n",
    "    \n",
    "    def average_score(self,mat_size,number,alpha):\n",
    "        \n",
    "        output = 0\n",
    "        \n",
    "        for i in np.arange(number):\n",
    "            \n",
    "            random_matrix = np.random.choice([0,1],size=(mat_size,self.popsize),p=[alpha,1-alpha])\n",
    "            \n",
    "            output += self.score(test_mat=random_matrix)\n",
    "            \n",
    "        return output/number\n",
    "    \n",
    "    def confusion_matrix(self,absv = False, plot=False):\n",
    "\n",
    "        if plot == False and absv == True :\n",
    "\n",
    "            return confusion_matrix(self.reconstruct(),self.true_x)\n",
    "\n",
    "        if plot == False and absv == False : \n",
    "\n",
    "            return confusion_matrix(self.reconstruct(),self.true_x)/np.sum(confusion_matrix(self.reconstruct(),self.true_x))\n",
    "\n",
    "        if plot == True and absv == False:\n",
    "\n",
    "            sns.heatmap(confusion_matrix(self.reconstruct(),self.true_x)/np.sum(confusion_matrix(self.reconstruct(),self.true_x)),annot=True)\n",
    "            plt.show()\n",
    "\n",
    "        if plot == True and absv == True:\n",
    "\n",
    "            sns.heatmap(confusion_matrix(self.reconstruct(),self.true_x),annot=True)\n",
    "            plt.show()"
   ]
  },
  {
   "cell_type": "code",
   "execution_count": 27,
   "metadata": {},
   "outputs": [
    {
     "name": "stdout",
     "output_type": "stream",
     "text": [
      "0.92\n",
      "0.8295673333333184\n"
     ]
    }
   ],
   "source": [
    "x_test = create_input(150,0.9)\n",
    "mat_test = create_tests(100,150,0.9) \n",
    "COMP_alg = COMP(x_test,mat_test) \n",
    "rec_x = COMP_alg.reconstruct()\n",
    "print(COMP_alg.score())\n",
    "print(COMP_alg.average_score(80,10000,0.9))"
   ]
  },
  {
   "cell_type": "code",
   "execution_count": 28,
   "metadata": {},
   "outputs": [
    {
     "data": {
      "image/png": "[encoded data removed]",
      "text/plain": [
       "<Figure size 432x288 with 1 Axes>"
      ]
     },
     "metadata": {
      "needs_background": "light"
     },
     "output_type": "display_data"
    }
   ],
   "source": [
    "x_test = create_input(150,0.9)\n",
    "\n",
    "results = []\n",
    "\n",
    "comp = COMP(x_test,mat_test)\n",
    "\n",
    "for test_number in np.arange(100):\n",
    "    \n",
    "    output = comp.average_score(test_number,10,0.9)\n",
    "    results.append(output)\n",
    "    \n",
    "plt.plot(results)\n",
    "plt.show()\n",
    "\n",
    "    \n",
    "    "
   ]
  },
  {
   "cell_type": "code",
   "execution_count": 29,
   "metadata": {},
   "outputs": [
    {
     "name": "stdout",
     "output_type": "stream",
     "text": [
      "0.79\n"
     ]
    },
    {
     "data": {
      "image/png": "[encoded data removed]",
      "text/plain": [
       "<Figure size 432x288 with 1 Axes>"
      ]
     },
     "metadata": {
      "needs_background": "light"
     },
     "output_type": "display_data"
    }
   ],
   "source": [
    "x_test = create_input(200,0.9)\n",
    "mat_test = create_tests(200,200,0.8) \n",
    "COMP_alg = COMP(x_test,mat_test) \n",
    "rec_x = COMP_alg.reconstruct()\n",
    "print(COMP_alg.score())\n",
    "\n",
    "results = []\n",
    "\n",
    "for i in np.arange(0,200):\n",
    "    \n",
    "    output = COMP_alg.score(mat_test[0:i,:])\n",
    "    results.append(output)\n",
    "    \n",
    "plt.plot(results)\n",
    "plt.show()"
   ]
  },
  {
   "cell_type": "markdown",
   "metadata": {},
   "source": [
    "# DD Algorithm"
   ]
  },
  {
   "cell_type": "code",
   "execution_count": 30,
   "metadata": {},
   "outputs": [],
   "source": [
    "class DD:\n",
    "    \n",
    "    def __init__(self,true_x,test_matrix):\n",
    "        \n",
    "        self.true_x = true_x\n",
    "        self.popsize = true_x.shape[0]\n",
    "        self.test_matrix = test_matrix\n",
    "        \n",
    "        if self.true_x.shape[0] != (self.test_matrix.shape)[1]:\n",
    "            \n",
    "            raise Exception(\"Number of columns in the test matrix and true vector size should be equal.\")\n",
    "            \n",
    "        self.test_result = test_matrix@true_x\n",
    "        \n",
    "    def reconstruct(self,test_mat=None):\n",
    "                \n",
    "        if type(test_mat) != type(None):\n",
    "                        \n",
    "            #Allows for reconstruction with different test matrix, used in average_score()\n",
    "            \n",
    "            test_matrix = test_mat\n",
    "            test_result = test_mat@(self.true_x)\n",
    "            \n",
    "        else:\n",
    "            \n",
    "            test_matrix = self.test_matrix\n",
    "            test_result = self.test_result\n",
    "        \n",
    "        nd = np.ones(test_matrix.shape[1])\n",
    "        \n",
    "        for line in np.arange(test_matrix.shape[0]):\n",
    "            \n",
    "            if test_result[line] == 0:\n",
    "                \n",
    "                def_negatives = test_matrix[line].nonzero()\n",
    "                \n",
    "                nd[def_negatives] = 0\n",
    "                \n",
    "        nd_c_indices = np.nonzero(nd)[0]\n",
    "        nd_c = 1-nd\n",
    "        nd_indices = np.nonzero(nd == 0)\n",
    "        \n",
    "        defectives = []\n",
    "        \n",
    "        for line in np.arange(test_matrix.shape[0]):\n",
    "                        \n",
    "            test_indices = test_matrix[line].nonzero()[0]\n",
    "            \n",
    "            overlap = len(np.intersect1d(test_indices,nd_c_indices))\n",
    "            \n",
    "            if overlap == 1:\n",
    "                \n",
    "                defective = np.intersect1d(test_indices,nd_c_indices)\n",
    "                defectives.append(defective[0])\n",
    "                \n",
    "        reconstructed_x = np.zeros(test_matrix.shape[1])\n",
    "        reconstructed_x[defectives]=1\n",
    "        \n",
    "        return reconstructed_x\n",
    "    \n",
    "    def score(self,test_mat=None):\n",
    "                \n",
    "        if type(test_mat) != type(None):\n",
    "            \n",
    "            #Allows for reconstruction with different test matrix, used in average_score()\n",
    "            \n",
    "            reconstructed_x = self.reconstruct(test_mat=test_mat)\n",
    "        \n",
    "        else:\n",
    "            \n",
    "            reconstructed_x = self.reconstruct()\n",
    "            \n",
    "            \n",
    "        diff = reconstructed_x - self.true_x\n",
    "        diff[diff != 0] = 1\n",
    "        \n",
    "        return np.mean(1-diff)\n",
    "    \n",
    "    def average_score(self,mat_size,number,alpha):\n",
    "        \n",
    "        output = 0\n",
    "        \n",
    "        for i in np.arange(number):\n",
    "            \n",
    "            random_matrix = np.random.choice([0,1],size=(mat_size,self.popsize),p=[alpha,1-alpha])\n",
    "            \n",
    "            output += self.score(test_mat=random_matrix)\n",
    "            \n",
    "        return output/number \n",
    "    \n",
    "    def confusion_matrix(self,absv = False, plot=False):\n",
    "\n",
    "        if plot == False and absv == True :\n",
    "\n",
    "            return confusion_matrix(self.reconstruct(),self.true_x)\n",
    "\n",
    "        if plot == False and absv == False : \n",
    "\n",
    "            return confusion_matrix(self.reconstruct(),self.true_x)/np.sum(confusion_matrix(self.reconstruct(),self.true_x))\n",
    "\n",
    "        if plot == True and absv == False:\n",
    "\n",
    "            sns.heatmap(confusion_matrix(self.reconstruct(),self.true_x)/np.sum(confusion_matrix(self.reconstruct(),self.true_x)),annot=True)\n",
    "            plt.show()\n",
    "\n",
    "        if plot == True and absv == True:\n",
    "\n",
    "            sns.heatmap(confusion_matrix(self.reconstruct(),self.true_x),annot=True)\n",
    "            plt.show()"
   ]
  },
  {
   "cell_type": "code",
   "execution_count": 31,
   "metadata": {},
   "outputs": [
    {
     "name": "stdout",
     "output_type": "stream",
     "text": [
      "0.82\n",
      "0.9\n",
      "DD average score: 0.9216733333333283\n",
      "Comp average score: 0.8653666666666646\n"
     ]
    }
   ],
   "source": [
    "x_test = create_input(150,0.9)\n",
    "mat_test = create_tests(100,150,0.9) \n",
    "comp = COMP(x_test,mat_test) \n",
    "dd = DD(x_test,mat_test)\n",
    "rec_x_comp = comp.reconstruct()\n",
    "rec_x_dd = dd.reconstruct()\n",
    "\n",
    "print(comp.score())\n",
    "print(dd.score())\n",
    "print('DD average score:',dd.average_score(100,1000,0.9))\n",
    "print('Comp average score:',comp.average_score(100,1000,0.9))"
   ]
  },
  {
   "cell_type": "markdown",
   "metadata": {},
   "source": [
    "# SCOMP algorithm"
   ]
  },
  {
   "cell_type": "code",
   "execution_count": 371,
   "metadata": {},
   "outputs": [],
   "source": [
    "class SCOMP:\n",
    "    \n",
    "    def __init__(self,true_x,test_matrix):\n",
    "        \n",
    "        self.true_x = true_x\n",
    "        self.popsize = true_x.shape[0]\n",
    "        self.test_matrix = test_matrix\n",
    "        \n",
    "        if self.true_x.shape[0] != (self.test_matrix.shape)[1]:\n",
    "            \n",
    "            raise Exception(\"Number of columns in the test matrix and true vector size should be equal.\")\n",
    "            \n",
    "        self.test_result = test_matrix@true_x\n",
    "        \n",
    "    def reconstruct(self,test_mat=None):\n",
    "                \n",
    "        if type(test_mat) != type(None):\n",
    "                        \n",
    "            #Allows for reconstruction with different test matrix, used in average_score()\n",
    "            \n",
    "            test_matrix = test_mat\n",
    "            test_result = test_mat@(self.true_x)\n",
    "            \n",
    "        else:\n",
    "            \n",
    "            test_matrix = self.test_matrix\n",
    "            test_result = self.test_result\n",
    "        \n",
    "        nd = np.ones(test_matrix.shape[1])\n",
    "        \n",
    "        #COMP\n",
    "        \n",
    "        for line in np.arange(test_matrix.shape[0]):\n",
    "            \n",
    "            if test_result[line] == 0:\n",
    "                \n",
    "                def_negatives = test_matrix[line].nonzero()\n",
    "                \n",
    "                nd[def_negatives] = 0\n",
    "                \n",
    "        #DD\n",
    "        \n",
    "        #nd : definetly negs \n",
    "        #pd : possibly defectives \n",
    "        \n",
    "        pd_indices = np.nonzero(nd)[0]\n",
    "        pd = 1-nd\n",
    "        nd_indices = np.nonzero(nd == 0)\n",
    "        \n",
    "        defectives = []\n",
    "        \n",
    "        for line in np.arange(test_matrix.shape[0]):\n",
    "                        \n",
    "            test_indices = test_matrix[line].nonzero()[0]\n",
    "            \n",
    "            overlap = len(np.intersect1d(test_indices,pd_indices))\n",
    "            \n",
    "            if overlap == 1:\n",
    "                \n",
    "                defective = np.intersect1d(test_indices,pd_indices)\n",
    "                defectives.append(defective[0])\n",
    "                \n",
    "        estimated_x = np.zeros(test_matrix.shape[1])\n",
    "        estimated_x[defectives] = 1\n",
    "                \n",
    "        while np.all(test_matrix@estimated_x == test_matrix@self.true_x) == False :\n",
    "            \n",
    "            positive_tests = test_result.nonzero()[0]\n",
    "            \n",
    "            unexplained_tests =[]\n",
    "            \n",
    "            for test in positive_tests:\n",
    "                                \n",
    "                if len(np.intersect1d(test_matrix[test].nonzero()[0],estimated_x.nonzero()[0])) == 0:\n",
    "                \n",
    "                    unexplained_tests.append(test)\n",
    "                       \n",
    "            counter = np.zeros(test_matrix.shape[1])\n",
    "                       \n",
    "            for i in pd_indices:\n",
    "                       \n",
    "               counter[i] = len(np.intersect1d(test_matrix[:,i].nonzero(),unexplained_tests))\n",
    "                       \n",
    "            selected_i = np.random.choice(np.flatnonzero(counter == counter.max()))\n",
    "            \n",
    "            if np.all(counter == 0):\n",
    "                \n",
    "                return estimated_x\n",
    "            \n",
    "            else:\n",
    "            \n",
    "                estimated_x[selected_i] = 1\n",
    "        \n",
    "        return estimated_x\n",
    "    \n",
    "    def score(self,test_mat=None):\n",
    "                \n",
    "        if type(test_mat) != type(None):\n",
    "                        \n",
    "            reconstructed_x = self.reconstruct(test_mat=test_mat)\n",
    "        \n",
    "        else:\n",
    "            \n",
    "            reconstructed_x = self.reconstruct()\n",
    "            \n",
    "        diff = reconstructed_x - self.true_x\n",
    "        diff[diff != 0] = 1\n",
    "        \n",
    "        return np.mean(1-diff)\n",
    "    \n",
    "    def average_score(self,mat_size,number,alpha):\n",
    "        \n",
    "        output = 0\n",
    "        \n",
    "        for i in np.arange(number):\n",
    "            \n",
    "            random_matrix = np.random.choice([0,1],size=(mat_size,self.popsize),p=[alpha,1-alpha])\n",
    "            \n",
    "            output += self.score(test_mat=random_matrix)\n",
    "                \n",
    "        return output/number\n",
    "    \n",
    "    def confusion_matrix(self,absv = False, plot=False):\n",
    "            \n",
    "        if plot == False and absv == True :\n",
    "            \n",
    "            return confusion_matrix(self.reconstruct(),self.true_x)\n",
    "        \n",
    "        if plot == False and absv == False : \n",
    "            \n",
    "            return confusion_matrix(self.reconstruct(),self.true_x)/np.sum(confusion_matrix(self.reconstruct(),self.true_x))\n",
    "        \n",
    "        if plot == True and absv == False:\n",
    "            \n",
    "            sns.heatmap(confusion_matrix(self.reconstruct(),self.true_x)/np.sum(confusion_matrix(self.reconstruct(),self.true_x)),annot=True)\n",
    "            plt.show()\n",
    "            \n",
    "        if plot == True and absv == True:\n",
    "            \n",
    "            sns.heatmap(confusion_matrix(self.reconstruct(),self.true_x),annot=True)\n",
    "            plt.show()\n",
    "            \n"
   ]
  },
  {
   "cell_type": "code",
   "execution_count": 377,
   "metadata": {},
   "outputs": [
    {
     "data": {
      "image/png": "[encoded data removed]",
      "text/plain": [
       "<Figure size 432x288 with 2 Axes>"
      ]
     },
     "metadata": {
      "needs_background": "light"
     },
     "output_type": "display_data"
    }
   ],
   "source": [
    "x_test = create_input(150,0.9)\n",
    "mat_test = create_tests(100,150,0.9) \n",
    "scomp = SCOMP(x_test,mat_test)\n",
    "comp = COMP(x_test,mat_test) \n",
    "dd = DD(x_test,mat_test)\n",
    "\n",
    "scomp.confusion_matrix(absv=False,plot=True)"
   ]
  },
  {
   "cell_type": "markdown",
   "metadata": {},
   "source": [
    "# LP Relaxation Algorithm"
   ]
  },
  {
   "cell_type": "code",
   "execution_count": 548,
   "metadata": {},
   "outputs": [],
   "source": [
    "class LP:\n",
    "    \n",
    "    def __init__(self,true_x,test_matrix):\n",
    "        \n",
    "        self.true_x = true_x\n",
    "        self.popsize = true_x.shape[0]\n",
    "        self.test_matrix = test_matrix\n",
    "        \n",
    "        if self.true_x.shape[0] != (self.test_matrix.shape)[1]:\n",
    "            \n",
    "            raise Exception(\"Number of columns in the test matrix and true vector size should be equal.\")\n",
    "            \n",
    "        self.test_result = test_matrix@true_x\n",
    "        \n",
    "        \n",
    "    def reconstruct(self,test_mat=None):\n",
    "        \n",
    "        \n",
    "        if type(test_mat) != type(None):\n",
    "                        \n",
    "            #Allows for reconstruction with different test matrix, used in average_score()\n",
    "            \n",
    "            test_matrix = test_mat\n",
    "            test_result = test_mat@(self.true_x)\n",
    "            \n",
    "        else:\n",
    "            \n",
    "            test_matrix = self.test_matrix\n",
    "            test_result = self.test_result\n",
    "        \n",
    "        positive_tests = test_matrix[test_result != 0,:]\n",
    "        negative_tests = test_matrix[test_result == 0,:]\n",
    "\n",
    "        x = cp.Variable(self.popsize)\n",
    "        objective = cp.Minimize(cp.sum(x))\n",
    "        constraints = [ 0 <= x, x <= 1, negative_tests@x == 0,test_result[test_result != 0] <= positive_tests@x]\n",
    "        prob = cp.Problem(objective,constraints)\n",
    "        prob.solve()\n",
    "        \n",
    "        optimal_x = x.value\n",
    "                 \n",
    "        optimal_x[optimal_x < 1] = 0\n",
    "        \n",
    "        return optimal_x.astype(int)\n",
    "    \n",
    "    def score(self,test_mat=None):\n",
    "                \n",
    "        if type(test_mat) != type(None):\n",
    "            \n",
    "            #Allows for reconstruction with different test matrix, used in average_score()\n",
    "            \n",
    "            reconstructed_x = self.reconstruct(test_mat=test_mat)\n",
    "        \n",
    "        else:\n",
    "            \n",
    "            reconstructed_x = self.reconstruct()\n",
    "            \n",
    "            \n",
    "        diff = reconstructed_x - self.true_x\n",
    "        diff[diff != 0] = 1\n",
    "        \n",
    "        return np.mean(1-diff)\n",
    "    \n",
    "    \n",
    "    def average_score(self,mat_size,number,alpha):\n",
    "        \n",
    "        output = 0\n",
    "        \n",
    "        for i in np.arange(number):\n",
    "            \n",
    "            random_matrix = np.random.choice([0,1],size=(mat_size,self.popsize),p=[alpha,1-alpha])\n",
    "            \n",
    "            output += self.score(test_mat=random_matrix)\n",
    "            \n",
    "        return output/number\n",
    "    \n",
    "    def confusion_matrix(self,absv = False, plot=False):\n",
    "\n",
    "        if plot == False and absv == True :\n",
    "\n",
    "            return confusion_matrix(self.reconstruct(),self.true_x)\n",
    "\n",
    "        if plot == False and absv == False : \n",
    "\n",
    "            return confusion_matrix(self.reconstruct(),self.true_x)/np.sum(confusion_matrix(self.reconstruct(),self.true_x))\n",
    "\n",
    "        if plot == True and absv == False:\n",
    "\n",
    "            sns.heatmap(confusion_matrix(self.reconstruct(),self.true_x)/np.sum(confusion_matrix(self.reconstruct(),self.true_x)),annot=True)\n",
    "            plt.show()\n",
    "\n",
    "        if plot == True and absv == True:\n",
    "\n",
    "            sns.heatmap(confusion_matrix(self.reconstruct(),self.true_x),annot=True)\n",
    "            plt.show()"
   ]
  },
  {
   "cell_type": "code",
   "execution_count": 556,
   "metadata": {},
   "outputs": [
    {
     "data": {
      "image/png": "[encoded data removed]",
      "text/plain": [
       "<Figure size 432x288 with 2 Axes>"
      ]
     },
     "metadata": {
      "needs_background": "light"
     },
     "output_type": "display_data"
    }
   ],
   "source": [
    "x_test = create_input(150,0.9)\n",
    "mat_test = create_tests(100,150,0.9) \n",
    "lp = LP(x_test,mat_test)\n",
    "lp.reconstruct()\n",
    "lp.score()\n",
    "lp.confusion_matrix(plot=True)"
   ]
  }
 ],
 "metadata": {
  "kernelspec": {
   "display_name": "Python 3",
   "language": "python",
   "name": "python3"
  },
  "language_info": {
   "codemirror_mode": {
    "name": "ipython",
    "version": 3
   },
   "file_extension": ".py",
   "mimetype": "text/x-python",
   "name": "python",
   "nbconvert_exporter": "python",
   "pygments_lexer": "ipython3",
   "version": "3.7.6"
  }
 },
 "nbformat": 4,
 "nbformat_minor": 4
}
